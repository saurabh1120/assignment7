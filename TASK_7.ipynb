{
 "cells": [
  {
   "cell_type": "markdown",
   "metadata": {},
   "source": [
    "# TASK 7"
   ]
  },
  {
   "cell_type": "markdown",
   "metadata": {},
   "source": [
    "# Registration_no- SIRSS1263"
   ]
  },
  {
   "cell_type": "markdown",
   "metadata": {},
   "source": [
    "# Name- Saurabh Sinha"
   ]
  },
  {
   "cell_type": "markdown",
   "metadata": {},
   "source": [
    "### Q1. Given an array of size N containing only 0s, 1s, and 2s; sort the array in ascending order."
   ]
  },
  {
   "cell_type": "code",
   "execution_count": null,
   "metadata": {},
   "outputs": [],
   "source": [
    "def arr_sort(i,a_size):\n",
    "    fst=0\n",
    "    lst=a_size-1\n",
    "    mid=0\n",
    "    \n",
    "    while mid <=lst:\n",
    "        if i[mid]==0:\n",
    "            i[fst],i[mid]=i[mid],i[fst]\n",
    "            fst+=1\n",
    "            mid+=1\n",
    "        \n",
    "        elif i[mid]==1:\n",
    "            mid+=1\n",
    "        \n",
    "        else:\n",
    "            i[mid],i[lst]=i[lst],i[mid]\n",
    "            lst-=1\n",
    "            \n",
    "    return i\n"
   ]
  },
  {
   "cell_type": "code",
   "execution_count": null,
   "metadata": {},
   "outputs": [],
   "source": [
    "def arr_print(i):\n",
    "    print(i)"
   ]
  },
  {
   "cell_type": "code",
   "execution_count": null,
   "metadata": {},
   "outputs": [],
   "source": [
    "a=[0,2,1,1,1,2,2,0,0,1,0,2,0,0]\n",
    "\n",
    "a_size=len(a)\n",
    "\n",
    "a=arr_sort(a,a_size)\n",
    "\n",
    "print(\"sorted array is : \")\n",
    "\n",
    "arr_print(a)"
   ]
  },
  {
   "cell_type": "markdown",
   "metadata": {},
   "source": [
    "### Q2. Given an array, rotate the array by one position in clock-wise direction."
   ]
  },
  {
   "cell_type": "code",
   "execution_count": null,
   "metadata": {},
   "outputs": [],
   "source": [
    "def rot(a,n):\n",
    "    x=a[n-1]\n",
    "    \n",
    "    for i in range(n-1,0,-1):\n",
    "        a[i]=a[i-1]\n",
    "    a[0]=x;\n"
   ]
  },
  {
   "cell_type": "code",
   "execution_count": null,
   "metadata": {},
   "outputs": [],
   "source": [
    "a=[12,15,48,94,32,11]\n",
    "n=len(a)\n",
    "\n",
    "print(\"\\nBefore clock rotation : \")\n",
    "\n",
    "for i in range(0,n):\n",
    "    print(a[i],end=\" \")\n",
    "\n",
    "\n",
    "rot(a,n)\n",
    "print(\"\\n\\n\\nAfter clock rotation : \")\n",
    "\n",
    "for i in range(0,n):\n",
    "    print(a[i],end=\" \")"
   ]
  },
  {
   "cell_type": "markdown",
   "metadata": {},
   "source": [
    "### Q3. Implement next permutation, which rearranges numbers into the lexicographically next greater permutation of numbers."
   ]
  },
  {
   "cell_type": "markdown",
   "metadata": {},
   "source": [
    "### If such an arrangement is not possible, it must rearrange it as the lowest possible order (i.e.,sorted in ascending order)."
   ]
  },
  {
   "cell_type": "markdown",
   "metadata": {},
   "source": [
    "### The replacement must be in place and use only constant extra memory."
   ]
  },
  {
   "cell_type": "code",
   "execution_count": 3,
   "metadata": {},
   "outputs": [
    {
     "name": "stdout",
     "output_type": "stream",
     "text": [
      "[2, 3, 1]\n"
     ]
    }
   ],
   "source": [
    "class Solution(object):\n",
    "    def nextPermutation(self, nums):\n",
    "        found = False\n",
    "        i = len(nums)-2\n",
    "        while i >=0:\n",
    "            if nums[i] < nums[i+1]:\n",
    "                found =True\n",
    "            break\n",
    "        i-=1\n",
    "        if not found:\n",
    "            nums.sort()\n",
    "        else:\n",
    "            m = self.findMaxIndex(i+1,nums,nums[i])\n",
    "            nums[i],nums[m] = nums[m],nums[i]\n",
    "            nums[i+1:] = nums[i+1:][::-1]\n",
    "        return nums\n",
    "    \n",
    "    \n",
    "    def findMaxIndex(self,index,a,curr):\n",
    "        ans = -1\n",
    "        index = 0\n",
    "        for i in range(index,len(a)):\n",
    "            if a[i]>curr:\n",
    "                if ans == -1:\n",
    "                    ans = curr\n",
    "                    index = i\n",
    "            else:\n",
    "                ans = min(ans,a[i])\n",
    "                index = i\n",
    "        return index\n",
    "    \n",
    "    \n",
    "ob1 = Solution()\n",
    "print(ob1.nextPermutation([1,2,3]))"
   ]
  },
  {
   "cell_type": "markdown",
   "metadata": {},
   "source": [
    "### Q4. Given two arrays a[ ] and b[ ] of size n and n respectively. The task is to find union between these two arrays."
   ]
  },
  {
   "cell_type": "markdown",
   "metadata": {},
   "source": [
    "### Union of the two arrays can be defined as the set containing distinct elements from both the arrays. If there are repetitions, then only one occurrence of element should be printed in union."
   ]
  },
  {
   "cell_type": "code",
   "execution_count": 7,
   "metadata": {},
   "outputs": [
    {
     "name": "stdout",
     "output_type": "stream",
     "text": [
      "5\n"
     ]
    }
   ],
   "source": [
    "a1 = [5,3]\n",
    "b2 = [1,2,3,4,5]\n",
    "c1 = [1,2,3]\n",
    "    \n",
    "def doUnion( a, n, b, m, c, k):\n",
    "     \n",
    "    hs = set()\n",
    "    for i in range(0, n):\n",
    "        hs.add(a[i])\n",
    "\n",
    "    for i in range(0, m):\n",
    "        hs.add(b[i])\n",
    "\n",
    "    for i in range(0, k):\n",
    "        hs.add(c[i])\n",
    "\n",
    "    return len(hs)\n",
    "print(doUnion(a1,2,b2,5,c1,3))"
   ]
  },
  {
   "cell_type": "code",
   "execution_count": null,
   "metadata": {},
   "outputs": [],
   "source": []
  }
 ],
 "metadata": {
  "kernelspec": {
   "display_name": "Python 3",
   "language": "python",
   "name": "python3"
  },
  "language_info": {
   "codemirror_mode": {
    "name": "ipython",
    "version": 3
   },
   "file_extension": ".py",
   "mimetype": "text/x-python",
   "name": "python",
   "nbconvert_exporter": "python",
   "pygments_lexer": "ipython3",
   "version": "3.8.5"
  }
 },
 "nbformat": 4,
 "nbformat_minor": 4
}
